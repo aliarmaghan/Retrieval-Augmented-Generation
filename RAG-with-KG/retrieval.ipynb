{
 "cells": [
  {
   "cell_type": "code",
   "execution_count": 1,
   "metadata": {},
   "outputs": [
    {
     "name": "stderr",
     "output_type": "stream",
     "text": [
      "e:\\projects\\KnowledgeGraph\\KG\\config.py:19: LangChainDeprecationWarning: The class `Neo4jGraph` was deprecated in LangChain 0.3.8 and will be removed in 1.0. An updated version of the class exists in the :class:`~langchain-neo4j package and should be used instead. To use it run `pip install -U :class:`~langchain-neo4j` and import as `from :class:`~langchain_neo4j import Neo4jGraph``.\n",
      "  graph = Neo4jGraph(\n"
     ]
    }
   ],
   "source": [
    "from KG.config import load_neo4j_graph\n",
    "from VectorRAG import query_vector_rag\n",
    "from GraphRAG import generate_cypher_query\n",
    "graph, openAI_api, openAI_endpoint = load_neo4j_graph()"
   ]
  },
  {
   "cell_type": "code",
   "execution_count": 12,
   "metadata": {},
   "outputs": [
    {
     "name": "stderr",
     "output_type": "stream",
     "text": [
      "C:\\Users\\Homayoun's PC\\AppData\\Roaming\\Python\\Python312\\site-packages\\langsmith\\client.py:280: LangSmithMissingAPIKeyWarning: API key must be provided when using hosted LangSmith API\n",
      "  warnings.warn(\n"
     ]
    },
    {
     "name": "stdout",
     "output_type": "stream",
     "text": [
      "Napoleon's death was attributed to stomach cancer, according\n",
      "to autopsy reports by Antommarchi and the British. There\n",
      "were theories of arsenic poisoning, but a 2021 study by an\n",
      "international team of gastrointestinal pathologists\n",
      "concluded that Napoleon died of stomach cancer.\n"
     ]
    }
   ],
   "source": [
    "question = \"who killed napoleon?\"\n",
    "vector_index_name = 'Chunk'\n",
    "vector_node_label = 'Chunk'\n",
    "vector_source_property= 'text'\n",
    "vector_embedding_property = 'textEmbeddingOpenAI'\n",
    "\n",
    "Vector_RAG = query_vector_rag(\n",
    "    question=question, \n",
    "    vector_index_name=vector_index_name, \n",
    "    vector_node_label=vector_node_label, \n",
    "    vector_source_property=vector_source_property, \n",
    "    vector_embedding_property=vector_embedding_property\n",
    "    )\n",
    "print(Vector_RAG)"
   ]
  },
  {
   "cell_type": "code",
   "execution_count": 13,
   "metadata": {},
   "outputs": [
    {
     "name": "stdout",
     "output_type": "stream",
     "text": [
      "\n",
      "\n",
      "\u001b[1m> Entering new GraphCypherQAChain chain...\u001b[0m\n",
      "Generated Cypher:\n",
      "\u001b[32;1m\u001b[1;3mMATCH (killer:Person)-[:RELATED_TO]->(Napoleon:Person)-[:HAS_SECTION]->(info:Section)-[:HAS_CHUNK]->(ChunkInfo:Chunk)\n",
      "RETURN killer, Napoleon, info, ChunkInfo.text\u001b[0m\n",
      "Full Context:\n",
      "\u001b[32;1m\u001b[1;3m[{'killer': {'name': 'Talleyrand'}, 'Napoleon': {'name': 'Napoleon'}, 'info': {'parent_name': 'Napoleon', 'type': 'General Information'}, 'ChunkInfo.text': \"Napoleon Bonaparte (born Napoleone di Buonaparte;[b] 15 August 1769 – 5 May 1821), later known by his regnal name Napoleon\\xa0I, was a French military and political leader who rose to prominence during the French Revolution and led a series of successful campaigns across Europe during the Revolutionary Wars and Napoleonic Wars from 1796 to 1815. He was the leader of the French Republic as First Consul from 1799 to 1804, then of the French Empire as Emperor of the French from 1804 to 1814, and briefly again in 1815.\\nBorn on the island of Corsica to a family of Italian origin, Napoleon moved to mainland France in 1779 and was commissioned as an officer in the French Army in 1785. He supported the French Revolution in 1789, and promoted its cause in Corsica. He rose rapidly in the ranks after breaking the siege of Toulon in 1793 and firing on royalist insurgents in Paris on 13 Vendémiaire in 1795. In 1796, Napoleon commanded a military campaign against the Austrians and their Italian allies in the War of the First Coalition, scoring decisive victories and becoming a national hero. He led an expedition to Egypt and Syria in 1798 which served as a springboard to political power. In November 1799, Napoleon engineered the Coup of 18 Brumaire against the Directory, and became First Consul of the Republic. He won the Battle of Marengo in 1800, which secured French victory in the War of the Second Coalition, and in 1803 sold the territory of Louisiana to the United States, which doubled the latter's area. In December 1804, Napoleon crowned himself Emperor of the French, further expanding his power.\"}, {'killer': {'name': 'Talleyrand'}, 'Napoleon': {'name': 'Napoleon'}, 'info': {'parent_name': 'Napoleon', 'type': 'General Information'}, 'ChunkInfo.text': 'The breakdown of the Treaty of Amiens led to the War of the Third Coalition by 1805. Napoleon shattered the coalition with a decisive victory at the Battle of Austerlitz, which led to the dissolution of the Holy Roman Empire. In the War of the Fourth Coalition, Napoleon defeated Prussia at the Battle of Jena–Auerstedt in 1806, marched his Grande Armée into Eastern Europe, and defeated the Russians in 1807 at the Battle of Friedland. Seeking to extend his trade embargo against Britain, Napoleon invaded the Iberian Peninsula and installed his brother Joseph as King of Spain in 1808, provoking the Peninsular War, mainly fought by his marshals until 1814. In 1809, the Austrians again challenged France in the War of the Fifth Coalition, in which Napoleon solidified his grip over Europe after winning the Battle of Wagram. In summer 1812, Napoleon launched an invasion of Russia, which ended in the catastrophic retreat of his army that winter. In 1813, Prussia and Austria joined Russia in the War of the Sixth Coalition, in which Napoleon was decisively defeated at the Battle of Leipzig. The coalition invaded France and captured Paris, forcing Napoleon to abdicate in April 1814. They exiled him to the Mediterranean island of Elba and restored the Bourbons to power. In February 1815, Napoleon escaped from Elba and again took control of France in what became known as the \"Hundred Days\". His opponents responded by forming a Seventh Coalition, which defeated him at the Battle of Waterloo in June 1815. Napoleon was exiled to the remote island of Saint Helena in the South Atlantic, where he died of stomach cancer in 1821, aged 51.'}, {'killer': {'name': 'Talleyrand'}, 'Napoleon': {'name': 'Napoleon'}, 'info': {'parent_name': 'Napoleon', 'type': 'General Information'}, 'ChunkInfo.text': \"Napoleon is considered one of the greatest military commanders in history and Napoleonic tactics are still studied at military schools worldwide. His legacy endures through the modernizing legal and administrative reforms he enacted in France and Western Europe, embodied in the Napoleonic Code. He established a system of public education, abolished the vestiges of feudalism, emancipated Jews and other religious minorities, abolished the Spanish Inquisition, enacted the principle of equality before the law for an emerging middle class, and centralized state power at the expense of religious authorities. His conquests acted as a catalyst for political change and the development of nation states. However, he is controversial due to his role in wars which devastated Europe, his looting of conquered territories, and his mixed record on civil rights: he abolished the free press, ended directly elected representative government, exiled and jailed critics of his regime, reinstated slavery in France's colonies except for Haiti, banned the entry of blacks and mulattos into France, reduced the civil rights of women and children in France, reintroduced a hereditary monarchy and nobility, and violently repressed popular uprisings against his rule.\"}, {'killer': {'name': 'Talleyrand'}, 'Napoleon': {'name': 'Napoleon'}, 'info': {'parent_name': 'Napoleon', 'type': 'General Information'}, 'ChunkInfo.text': 'Napoleon\\'s family was of Italian origin. His paternal ancestors, the Buonapartes, descended from a minor Tuscan noble family who emigrated to Corsica in the 16th century and his maternal ancestors, the Ramolinos, descended from a noble family from Lombardy.\\nNapoleon\\'s parents, Carlo Maria Buonaparte and Maria Letizia Ramolino, lived in the Maison Bonaparte home in Ajaccio, where Napoleon was born on 15 August 1769. He had an elder brother, Joseph, and, later, six younger siblings: Lucien, Elisa, Louis, Pauline, Caroline, and Jérôme. Five more siblings were stillborn or did not survive infancy. Napoleon was baptized as a Catholic, under the name Napoleone di Buonaparte. In his youth, his name was also spelled as Nabulione, Nabulio, Napolionne, and Napulione.\\nNapoleon was born one year after the Republic of Genoa ceded Corsica to France.[c] His father fought alongside Pasquale Paoli during the Corsican war of independence against France. After the Corsican defeat at the Battle of Ponte Novu in 1769 and Paoli\\'s exile in Britain, Carlo became friends with the French governor Charles Louis de Marbeuf, who became his patron and godfather to Napoleon. With Mabeuf\\'s support, Carlo was named Corsican representative to the court of Louis XVI and Napoleon obtained a royal bursary to a military academy in France.\\nThe dominant influence of Napoleon\\'s childhood was his mother, whose firm discipline restrained a rambunctious child. Later in life, Napoleon said, \"The future destiny of the child is always the work of the mother.\" Napoleon\\'s noble, moderately affluent background afforded him greater opportunities to study than were available to a typical Corsican of the time.\\nIn January 1779, at age 9, Napoleon moved to the French mainland and enrolled at a religious school in Autun to improve his French (his mother tongue was the Corsican dialect of Italian). Although he eventually became fluent in French, he spoke with a Corsican accent and his French spelling was poor.'}, {'killer': {'name': 'Talleyrand'}, 'Napoleon': {'name': 'Napoleon'}, 'info': {'parent_name': 'Napoleon', 'type': 'General Information'}, 'ChunkInfo.text': 'In May, he transferred to the military academy at Brienne-le-Château where he was routinely bullied by his peers for his accent, birthplace, short stature, mannerisms, and poor French. He became reserved and melancholic, applying himself to reading. An examiner observed that Napoleon \"has always been distinguished for his application in mathematics. He is fairly well acquainted with history and geography\\xa0... This boy would make an excellent sailor\".[d]\\nOne story of Napoleon at the school is that he led junior students to victory against senior students in a snowball fight, which allegedly showed his leadership abilities. But the story was only told after Napoleon had become famous. In his later years at Brienne, Napoleon became an outspoken Corsican nationalist and admirer of Paoli.\\nIn September 1784, Napoleon was admitted to the École militaire in Paris where he trained to become an artillery officer. He excelled at mathematics, and read widely in geography, history and literature. However, he was poor at French and German. His father\\'s death in February 1785 cut the family income and forced him to complete the two-year course in one year. In September he was examined by the famed scientist Pierre-Simon Laplace and became the first Corsican to graduate from the École militaire.'}, {'killer': {'name': 'Talleyrand'}, 'Napoleon': {'name': 'Napoleon'}, 'info': {'parent_name': 'Napoleon', 'type': 'General Information'}, 'ChunkInfo.text': 'Pieter Geyl wrote in 1947, \"It is impossible that two historians, especially two historians living in different periods, should see any historical personality in the same light.\" There is no dispute that Napoleon was ambitious, although commentators disagree on whether his ambition was mostly for his own power and glory or for the welfare of France. Historians agree that Napoleon was highly intelligent with an excellent memory, and was a superior organizer who could work efficiently for long hours. In battle, he could rapidly dictate a series of complex commands to his subordinates, keeping in mind where major units were expected to be at each future point.\\nHe was an inspiring leader who could obtain the best from his soldiers and subordinates. Arthur Wellesley, 1st Duke of Wellington said his presence on the battlefield was worth 40,000 soldiers. He could charm people when he needed to but could also publicly humiliate them and was known for his rages when his plans were frustrated. Historian McLynn sees him as a misogynist with a cruel streak which he often inflicted on women, children and animals.\\nThere is debate over whether Napoleon was an outsider who never felt at home in France or with other people. Hippolyte Taine said Napoleon saw others only as instruments and was cut off from feelings of admiration, sympathy or pity. Arthur Lévy replied that Napoleon genuinely loved Joséphine and often showed humanity and compassion to his enemies or those who had let him down. He had the normal middle class virtues and understood the common man.'}, {'killer': {'name': 'Talleyrand'}, 'Napoleon': {'name': 'Napoleon'}, 'info': {'parent_name': 'Napoleon', 'type': 'General Information'}, 'ChunkInfo.text': 'Similarly, historians are divided over whether Napoleon was consistently ruthless when his power was threatened or surprisingly indulgent in some cases. Those arguing for a ruthless personality point to episodes such as his violent suppression of revolts in France and conquered territories, his execution of the Duc d\\'Enghien and plotters against his rule, and his massacre of Turkish prisoners of war in Syria in 1799. Others point to his mild treatment of disloyal subordinates such as Charles XIV John, Talleyrand and Fouché.\\nMany historians see Napoleon as pragmatic and a realist, at least in the early years of his rule. He was not driven by ideology and promoted capable men irrespective of their political and social background, as long as they were loyal. As an expert in military matters, he valued technical expertise and listened to the advice of experts in other fields. However, there is a consensus that once he dominated Europe he became more intolerant of other views and surrounded himself with \"yes men\". Towards the end of his reign he lost his realism and ability to compromise.\\nSome historians talk of Napoleon\\'s dual nature: a rationalist with a strong romantic streak. He took a team of scholars, artists and engineers with him to Egypt in order to scientifically study the country\\'s culture and history, but at the same time was struck by romantic \"orientalism\". \"I was full of dreams,\" he stated. \"I saw myself founding a religion, marching into Asia, riding an elephant, a turban on my head and in my hand a new Koran that I would have composed to suit my need.\"\\nNapoleon was superstitious. He believed in omens, numerology, fate and lucky stars, and always asked of his generals: is he lucky? Dwyer states that Napoleon\\'s victories at Austerlitz and Jena in 1805–06 left him even more certain of his destiny and invincibility. \"I am of the race that founds empires\", he once boasted, deeming himself an heir to the Ancient Romans.'}, {'killer': {'name': 'Talleyrand'}, 'Napoleon': {'name': 'Napoleon'}, 'info': {'parent_name': 'Napoleon', 'type': 'General Information'}, 'ChunkInfo.text': \"Various psychologists have attempted to explain Napoleon's personality. Alfred Adler cited Napoleon to describe an inferiority complex in which short people adopt over-aggressive behaviour to compensate for lack of height; this inspired the term Napoleon complex. Adler, Erich Fromm and Wilhelm Reich ascribed his nervous energy to sexual dysfunction. Harold T. Parker speculated that rivalry with his older brother and bullying when he moved to France led him to develop an inferiority complex which made him domineering.\"}, {'killer': {'name': 'Talleyrand'}, 'Napoleon': {'name': 'Napoleon'}, 'info': {'parent_name': 'Napoleon', 'type': 'General Information'}, 'ChunkInfo.text': 'Many of those who met Napoleon were surprised by his unremarkable physical appearance in contrast to his significant deeds and reputation. In his youth he was consistently described as small and thin. English painter Joseph Farington, who met him in 1802, said \"Samuel Rogers stood a little way from me and... seemed to be disappointed in the look of [Napoleon\\'s] countenance and said it was that of a little Italian.\" Farington said Napoleon\\'s eyes were \"lighter, and more of a grey, than I should have expected from his complexion\", that \"his person is below middle size\", and that \"his general aspect was milder than I had before thought it.\"\\nA friend who first met him as a young man said Napoleon was only notable \"for the dark color of his complexion... for his piercing and scrutinising glance, and for the style of his conversation\". He also said that Napoleon was serious and sombre. Johann Ludwig Wurstemberger, who accompanied Napoleon in 1797 and 1798, noted that \"Bonaparte was rather slight and emaciated-looking; his face, too, was very thin, with a dark complexion... his black, unpowdered hair hung down evenly over both shoulders\", but that, despite his slight and unkempt appearance, \"his looks and expression were earnest and powerful.\"\\nDenis Davydov considered him average in appearance:\\nHis face was slightly swarthy, with regular features. His nose was not very large, but straight, with a slight, hardly noticeable bend. The hair on his head was dark reddish-blond; his eyebrows and eyelashes were much darker than the colour of his hair, and his blue eyes, set off by the almost black lashes, gave him a most pleasing expression\\xa0... The man I saw was of short stature, just over five feet tall, rather heavy although he was only 37 years old.'}, {'killer': {'name': 'Talleyrand'}, 'Napoleon': {'name': 'Napoleon'}, 'info': {'parent_name': 'Napoleon', 'type': 'General Information'}, 'ChunkInfo.text': 'During the Napoleonic Wars, he was depicted by the British press as a dangerous tyrant, poised to invade. A nursery rhyme warned children that Bonaparte ate naughty people; the \"bogeyman\". He was mocked as a short-tempered small man and was nicknamed \"Little Boney in a strong fit\". In fact, at about 170\\xa0cm (5\\xa0ft 7 in), he was of average height.\\nIn his later years he gained weight and had a sallow complexion. Novelist Paul de Kock, who saw him in 1811, called Napoleon \"yellow, obese, and bloated\". A British captain who met him in 1815 stated \"I felt very much disappointed, as I believe everyone else did, in his appearance\\xa0... He is fat, rather what we call pot-bellied, and although his leg is well shaped, it is rather clumsy\\xa0... He is very sallow, with light grey eyes, and rather thin, greasy-looking brown hair, and altogether a very nasty, priestlike-looking fellow.\"\\nHe is often portrayed wearing a large bicorne hat—sideways—with a hand-in-waistcoat gesture—a reference to the painting produced in 1812 by Jacques-Louis David.'}]\u001b[0m\n",
      "\n",
      "\u001b[1m> Finished chain.\u001b[0m\n"
     ]
    },
    {
     "data": {
      "text/plain": [
       "'Talleyrand killed Napoleon.'"
      ]
     },
     "execution_count": 13,
     "metadata": {},
     "output_type": "execute_result"
    }
   ],
   "source": [
    "generate_cypher_query(graph=graph, question=question)"
   ]
  },
  {
   "cell_type": "code",
   "execution_count": null,
   "metadata": {},
   "outputs": [],
   "source": []
  }
 ],
 "metadata": {
  "language_info": {
   "name": "python"
  }
 },
 "nbformat": 4,
 "nbformat_minor": 2
}
